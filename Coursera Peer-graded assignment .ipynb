{
 "cells": [
  {
   "cell_type": "markdown",
   "id": "a22dd5e9",
   "metadata": {},
   "source": [
    "## Peer-Graded Assignment"
   ]
  },
  {
   "cell_type": "markdown",
   "id": "885c8fce",
   "metadata": {},
   "source": [
    "### Introduction : \n",
    "\n",
    "Hello this is Somesh Rajendra Bhandarkar, I'm a computer science student who is getting into Data Science as a potential career switch from a software developer to a Data Scientist."
   ]
  },
  {
   "cell_type": "markdown",
   "id": "6af687f8",
   "metadata": {},
   "source": [
    "## Data science languages: \n",
    "\n",
    "we use different types of languages for different works to be done in data science, \n",
    "1. Python \n",
    "2. R\n",
    "3. SQL \n",
    "4. Julia\n",
    "5. JavaScript\n",
    "6. Scala \n",
    "7. C++ and etc."
   ]
  },
  {
   "cell_type": "markdown",
   "id": "8904c7da",
   "metadata": {},
   "source": [
    "## Libraries in Data Science: \n",
    "\n",
    "We use various different libraries for different purposes in data science, \n",
    "\n",
    "1. Pandas - Pandas is helpful when it comes to data manipulation like data cleaning, performing EDA and etc.\n",
    "2. Numpy - Numpy provides set of mathematical functions and also, provides a set of tools to work on arrays & matrices.\n",
    "3. Matplotlib - it helps to visualize the data.\n",
    "4. Scikit-learn - This library contains all the ML algorithms which we Data Scientists use to predict outcomes.\n",
    "5. Scipy - Scipy is used for scientific computing which is built on top of NumPy with additional functions that people can use.\n",
    "6. Seaborn - Seaborn is also data visualization tool based on Matplotlib which provides better results for statiscal analysis.\n",
    "7. Plotly - Plotly is very useful as you can create dashboards to visualize the data. \n",
    "8. Tensorflow - This library offers many high-level models for deeplearning purposes, which was developed by Google.\n",
    "& many more!"
   ]
  },
  {
   "cell_type": "markdown",
   "id": "4057d89f",
   "metadata": {},
   "source": [
    "## data science tools: \n",
    "\n",
    "| Sr No. | DS Tools | \n",
    "| ------ | -------- |\n",
    "| 1.     | Tableau  | \n",
    "| 2.     | Power BI | \n",
    "| 3.     | Jupyter Notebook | \n",
    "| 4.     | Apache Spark | \n",
    "| 5.     | Google colab | "
   ]
  },
  {
   "cell_type": "markdown",
   "id": "c029ba66",
   "metadata": {},
   "source": [
    "## arithmetic expressions:\n",
    "\n",
    "Python expression provides a variety of operators that can be used in arithmetic expressions. These operators include:\n",
    "\n",
    "Addition (+)\n",
    "Subtraction (-)\n",
    "Multiplication (*)\n",
    "Division (/)\n",
    "Modulus (%), which returns the remainder of a division operation\n",
    "Exponentiation (**), which raises a number to a specified power"
   ]
  },
  {
   "cell_type": "code",
   "execution_count": 1,
   "id": "4d14b19d",
   "metadata": {},
   "outputs": [
    {
     "name": "stdout",
     "output_type": "stream",
     "text": [
      "the addition is: 25 & the multiplication is: 150\n"
     ]
    }
   ],
   "source": [
    "num1 = 10 \n",
    "num2 = 15 \n",
    "add = num1 + num2\n",
    "mul = num1 * num2\n",
    "print(f\"the addition is: {add} & the multiplication is: {mul}\")"
   ]
  },
  {
   "cell_type": "code",
   "execution_count": 4,
   "id": "d450937f",
   "metadata": {},
   "outputs": [
    {
     "name": "stdout",
     "output_type": "stream",
     "text": [
      "2.05 hours\n"
     ]
    }
   ],
   "source": [
    "# converting minutes into hours \n",
    "minutes = 123\n",
    "hour = minutes/60\n",
    "print(hour, \"hours\")"
   ]
  },
  {
   "cell_type": "markdown",
   "id": "7fc6b817",
   "metadata": {},
   "source": [
    "Hello this is a jupyter notebook consisting of various different introductory tasks to learn jupyter notebook and it's use case.\n",
    "\n",
    "\n",
    "list = [12, 45.5, \"somesh\", True]\n",
    "print(list)"
   ]
  },
  {
   "cell_type": "markdown",
   "id": "00e02533",
   "metadata": {},
   "source": [
    "# Author's name: Somesh R Bhandarkar"
   ]
  }
 ],
 "metadata": {
  "kernelspec": {
   "display_name": "Python 3 (ipykernel)",
   "language": "python",
   "name": "python3"
  },
  "language_info": {
   "codemirror_mode": {
    "name": "ipython",
    "version": 3
   },
   "file_extension": ".py",
   "mimetype": "text/x-python",
   "name": "python",
   "nbconvert_exporter": "python",
   "pygments_lexer": "ipython3",
   "version": "3.9.13"
  }
 },
 "nbformat": 4,
 "nbformat_minor": 5
}
